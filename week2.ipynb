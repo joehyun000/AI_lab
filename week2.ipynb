{
 "cells": [
  {
   "cell_type": "code",
   "execution_count": 2,
   "id": "b8b0027a-286d-4f05-892b-cb72955dbfb9",
   "metadata": {},
   "outputs": [],
   "source": [
    "import torch"
   ]
  },
  {
   "cell_type": "code",
   "execution_count": 7,
   "id": "aec6fd8e-9f0b-4d68-88ac-53417974f7cd",
   "metadata": {},
   "outputs": [],
   "source": [
    "if torch.backends.mps.is_available():\n",
    "    torch.set_default_device(\"mps\")   # PyTorch 2.0+\n",
    "    # 성능 옵션 (필요 시)\n",
    "    torch.backends.cudnn.benchmark = True\n",
    "    torch.backends.cuda.matmul.allow_tf32 = True"
   ]
  },
  {
   "cell_type": "code",
   "execution_count": 8,
   "id": "28c501ce-024e-4762-b8ab-5ac209dd360c",
   "metadata": {},
   "outputs": [
    {
     "name": "stdout",
     "output_type": "stream",
     "text": [
      "✓ PyTorch is successfully imported!\n",
      "PyTorch version: 2.8.0\n",
      "CUDA is not available. Using CPU.\n",
      "✓ Test tensor created: tensor([1, 2, 3, 4, 5], device='mps:0')\n",
      "Tensor shape: torch.Size([5])\n",
      "Tensor device: mps:0\n",
      "✓ Basic operation test (squaring): tensor([ 1,  4,  9, 16, 25], device='mps:0')\n",
      "\n",
      "🎉 PyTorch is working correctly!\n"
     ]
    }
   ],
   "source": [
    "# Check if PyTorch is available and import it\n",
    "try:\n",
    "    import torch\n",
    "    print(\"✓ PyTorch is successfully imported!\")\n",
    "    print(f\"PyTorch version: {torch.__version__}\")\n",
    "    \n",
    "    # Check if CUDA is available\n",
    "    if torch.cuda.is_available():\n",
    "        print(f\"✓ CUDA is available! Device count: {torch.cuda.device_count()}\")\n",
    "        print(f\"Current CUDA device: {torch.cuda.get_device_name(0)}\")\n",
    "    else:\n",
    "        print(\"CUDA is not available. Using CPU.\")\n",
    "    \n",
    "    # Create a simple tensor to test basic functionality\n",
    "    test_tensor = torch.tensor([1, 2, 3, 4, 5])\n",
    "    print(f\"✓ Test tensor created: {test_tensor}\")\n",
    "    print(f\"Tensor shape: {test_tensor.shape}\")\n",
    "    print(f\"Tensor device: {test_tensor.device}\")\n",
    "    \n",
    "    # Basic tensor operation\n",
    "    squared_tensor = test_tensor ** 2\n",
    "    print(f\"✓ Basic operation test (squaring): {squared_tensor}\")\n",
    "    \n",
    "    print(\"\\n🎉 PyTorch is working correctly!\")\n",
    "    \n",
    "except ImportError as e:\n",
    "    print(\"❌ PyTorch is not installed or not available\")\n",
    "    print(f\"Error details: {e}\")\n",
    "    print(\"Please install PyTorch using: pip install torch\")\n",
    "    \n",
    "except Exception as e:\n",
    "    print(f\"❌ An error occurred while testing PyTorch: {e}\")"
   ]
  },
  {
   "cell_type": "code",
   "execution_count": null,
   "id": "9bf48a30-0e23-42ed-af4b-4dabebb42532",
   "metadata": {},
   "outputs": [],
   "source": []
  }
 ],
 "metadata": {
  "kernelspec": {
   "display_name": "Python 3 (ipykernel)",
   "language": "python",
   "name": "python3"
  },
  "language_info": {
   "codemirror_mode": {
    "name": "ipython",
    "version": 3
   },
   "file_extension": ".py",
   "mimetype": "text/x-python",
   "name": "python",
   "nbconvert_exporter": "python",
   "pygments_lexer": "ipython3",
   "version": "3.10.18"
  }
 },
 "nbformat": 4,
 "nbformat_minor": 5
}
